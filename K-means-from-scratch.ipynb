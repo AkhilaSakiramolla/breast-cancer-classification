{
 "cells": [
  {
   "cell_type": "markdown",
   "metadata": {
    "id": "woHU_mx8UVkh"
   },
   "source": [
    "# K-means clustering"
   ]
  },
  {
   "cell_type": "markdown",
   "metadata": {
    "id": "1ncaHc9rUZTN"
   },
   "source": [
    "## Importing required libraries"
   ]
  },
  {
   "cell_type": "code",
   "execution_count": 1,
   "metadata": {
    "id": "5Bcnhn_hUFj0"
   },
   "outputs": [],
   "source": [
    "# To load breast cancer dataset\n",
    "from sklearn import datasets  \n",
    "\n",
    "import pandas as pd\n",
    "import numpy as np\n",
    "import random\n",
    "import matplotlib.pyplot as plt\n",
    "from matplotlib import pyplot\n",
    "\n",
    "from sklearn.model_selection import train_test_split\n",
    "from sklearn.preprocessing import StandardScaler\n",
    "from sklearn.linear_model import LogisticRegression\n",
    "from sklearn.metrics import confusion_matrix\n",
    "from sklearn.metrics import accuracy_score\n",
    "import time\n",
    "\n",
    "# To execute a cell line by line\n",
    "from IPython.core.interactiveshell import InteractiveShell\n",
    "InteractiveShell.ast_node_interactivity = \"all\"\n",
    "\n",
    "import warnings\n",
    "warnings.filterwarnings('ignore')"
   ]
  },
  {
   "cell_type": "markdown",
   "metadata": {
    "id": "UylR6Ux4UgJt"
   },
   "source": [
    "## Question 1 : K-Means Clustering"
   ]
  },
  {
   "cell_type": "markdown",
   "metadata": {
    "id": "OL9z6jYVUlkG"
   },
   "source": [
    "### Import Data"
   ]
  },
  {
   "cell_type": "code",
   "execution_count": 2,
   "metadata": {
    "colab": {
     "base_uri": "https://localhost:8080/"
    },
    "id": "PudtpG-RUb6A",
    "outputId": "569fd8a2-543e-48e7-910e-ded0f73a5140"
   },
   "outputs": [
    {
     "name": "stdout",
     "output_type": "stream",
     "text": [
      "dict_keys(['data', 'target', 'target_names', 'DESCR', 'feature_names', 'filename'])\n"
     ]
    }
   ],
   "source": [
    "# Loading the breat cancer dataset from sklearn\n",
    "data = datasets.load_breast_cancer()\n",
    "print(data.keys()) # To check all the features and target in the dataset"
   ]
  },
  {
   "cell_type": "code",
   "execution_count": 3,
   "metadata": {
    "id": "ngj_wLqTUndu"
   },
   "outputs": [],
   "source": [
    "# Loading the dataset as a dataframe with required features\n",
    "df_cancer = pd.DataFrame(data.data, columns=data.feature_names)\n",
    "\n",
    "# Adding the target column to this dataframe\n",
    "df_cancer['target'] = data.target"
   ]
  },
  {
   "cell_type": "code",
   "execution_count": 4,
   "metadata": {
    "colab": {
     "base_uri": "https://localhost:8080/",
     "height": 312
    },
    "id": "FnSl7bQMUo3m",
    "outputId": "b945869d-3416-4394-a6f9-c6d585b88f6a"
   },
   "outputs": [
    {
     "name": "stdout",
     "output_type": "stream",
     "text": [
      "The number of rows in data : 569\n",
      "The number of columns in data : 31\n",
      "The first few rows of the data:\n"
     ]
    },
    {
     "data": {
      "text/html": [
       "<div>\n",
       "<style scoped>\n",
       "    .dataframe tbody tr th:only-of-type {\n",
       "        vertical-align: middle;\n",
       "    }\n",
       "\n",
       "    .dataframe tbody tr th {\n",
       "        vertical-align: top;\n",
       "    }\n",
       "\n",
       "    .dataframe thead th {\n",
       "        text-align: right;\n",
       "    }\n",
       "</style>\n",
       "<table border=\"1\" class=\"dataframe\">\n",
       "  <thead>\n",
       "    <tr style=\"text-align: right;\">\n",
       "      <th></th>\n",
       "      <th>mean radius</th>\n",
       "      <th>mean texture</th>\n",
       "      <th>mean perimeter</th>\n",
       "      <th>mean area</th>\n",
       "      <th>mean smoothness</th>\n",
       "      <th>mean compactness</th>\n",
       "      <th>mean concavity</th>\n",
       "      <th>mean concave points</th>\n",
       "      <th>mean symmetry</th>\n",
       "      <th>mean fractal dimension</th>\n",
       "      <th>radius error</th>\n",
       "      <th>texture error</th>\n",
       "      <th>perimeter error</th>\n",
       "      <th>area error</th>\n",
       "      <th>smoothness error</th>\n",
       "      <th>compactness error</th>\n",
       "      <th>concavity error</th>\n",
       "      <th>concave points error</th>\n",
       "      <th>symmetry error</th>\n",
       "      <th>fractal dimension error</th>\n",
       "      <th>worst radius</th>\n",
       "      <th>worst texture</th>\n",
       "      <th>worst perimeter</th>\n",
       "      <th>worst area</th>\n",
       "      <th>worst smoothness</th>\n",
       "      <th>worst compactness</th>\n",
       "      <th>worst concavity</th>\n",
       "      <th>worst concave points</th>\n",
       "      <th>worst symmetry</th>\n",
       "      <th>worst fractal dimension</th>\n",
       "      <th>target</th>\n",
       "    </tr>\n",
       "  </thead>\n",
       "  <tbody>\n",
       "    <tr>\n",
       "      <th>0</th>\n",
       "      <td>17.99</td>\n",
       "      <td>10.38</td>\n",
       "      <td>122.80</td>\n",
       "      <td>1001.0</td>\n",
       "      <td>0.11840</td>\n",
       "      <td>0.27760</td>\n",
       "      <td>0.3001</td>\n",
       "      <td>0.14710</td>\n",
       "      <td>0.2419</td>\n",
       "      <td>0.07871</td>\n",
       "      <td>1.0950</td>\n",
       "      <td>0.9053</td>\n",
       "      <td>8.589</td>\n",
       "      <td>153.40</td>\n",
       "      <td>0.006399</td>\n",
       "      <td>0.04904</td>\n",
       "      <td>0.05373</td>\n",
       "      <td>0.01587</td>\n",
       "      <td>0.03003</td>\n",
       "      <td>0.006193</td>\n",
       "      <td>25.38</td>\n",
       "      <td>17.33</td>\n",
       "      <td>184.60</td>\n",
       "      <td>2019.0</td>\n",
       "      <td>0.1622</td>\n",
       "      <td>0.6656</td>\n",
       "      <td>0.7119</td>\n",
       "      <td>0.2654</td>\n",
       "      <td>0.4601</td>\n",
       "      <td>0.11890</td>\n",
       "      <td>0</td>\n",
       "    </tr>\n",
       "    <tr>\n",
       "      <th>1</th>\n",
       "      <td>20.57</td>\n",
       "      <td>17.77</td>\n",
       "      <td>132.90</td>\n",
       "      <td>1326.0</td>\n",
       "      <td>0.08474</td>\n",
       "      <td>0.07864</td>\n",
       "      <td>0.0869</td>\n",
       "      <td>0.07017</td>\n",
       "      <td>0.1812</td>\n",
       "      <td>0.05667</td>\n",
       "      <td>0.5435</td>\n",
       "      <td>0.7339</td>\n",
       "      <td>3.398</td>\n",
       "      <td>74.08</td>\n",
       "      <td>0.005225</td>\n",
       "      <td>0.01308</td>\n",
       "      <td>0.01860</td>\n",
       "      <td>0.01340</td>\n",
       "      <td>0.01389</td>\n",
       "      <td>0.003532</td>\n",
       "      <td>24.99</td>\n",
       "      <td>23.41</td>\n",
       "      <td>158.80</td>\n",
       "      <td>1956.0</td>\n",
       "      <td>0.1238</td>\n",
       "      <td>0.1866</td>\n",
       "      <td>0.2416</td>\n",
       "      <td>0.1860</td>\n",
       "      <td>0.2750</td>\n",
       "      <td>0.08902</td>\n",
       "      <td>0</td>\n",
       "    </tr>\n",
       "    <tr>\n",
       "      <th>2</th>\n",
       "      <td>19.69</td>\n",
       "      <td>21.25</td>\n",
       "      <td>130.00</td>\n",
       "      <td>1203.0</td>\n",
       "      <td>0.10960</td>\n",
       "      <td>0.15990</td>\n",
       "      <td>0.1974</td>\n",
       "      <td>0.12790</td>\n",
       "      <td>0.2069</td>\n",
       "      <td>0.05999</td>\n",
       "      <td>0.7456</td>\n",
       "      <td>0.7869</td>\n",
       "      <td>4.585</td>\n",
       "      <td>94.03</td>\n",
       "      <td>0.006150</td>\n",
       "      <td>0.04006</td>\n",
       "      <td>0.03832</td>\n",
       "      <td>0.02058</td>\n",
       "      <td>0.02250</td>\n",
       "      <td>0.004571</td>\n",
       "      <td>23.57</td>\n",
       "      <td>25.53</td>\n",
       "      <td>152.50</td>\n",
       "      <td>1709.0</td>\n",
       "      <td>0.1444</td>\n",
       "      <td>0.4245</td>\n",
       "      <td>0.4504</td>\n",
       "      <td>0.2430</td>\n",
       "      <td>0.3613</td>\n",
       "      <td>0.08758</td>\n",
       "      <td>0</td>\n",
       "    </tr>\n",
       "    <tr>\n",
       "      <th>3</th>\n",
       "      <td>11.42</td>\n",
       "      <td>20.38</td>\n",
       "      <td>77.58</td>\n",
       "      <td>386.1</td>\n",
       "      <td>0.14250</td>\n",
       "      <td>0.28390</td>\n",
       "      <td>0.2414</td>\n",
       "      <td>0.10520</td>\n",
       "      <td>0.2597</td>\n",
       "      <td>0.09744</td>\n",
       "      <td>0.4956</td>\n",
       "      <td>1.1560</td>\n",
       "      <td>3.445</td>\n",
       "      <td>27.23</td>\n",
       "      <td>0.009110</td>\n",
       "      <td>0.07458</td>\n",
       "      <td>0.05661</td>\n",
       "      <td>0.01867</td>\n",
       "      <td>0.05963</td>\n",
       "      <td>0.009208</td>\n",
       "      <td>14.91</td>\n",
       "      <td>26.50</td>\n",
       "      <td>98.87</td>\n",
       "      <td>567.7</td>\n",
       "      <td>0.2098</td>\n",
       "      <td>0.8663</td>\n",
       "      <td>0.6869</td>\n",
       "      <td>0.2575</td>\n",
       "      <td>0.6638</td>\n",
       "      <td>0.17300</td>\n",
       "      <td>0</td>\n",
       "    </tr>\n",
       "    <tr>\n",
       "      <th>4</th>\n",
       "      <td>20.29</td>\n",
       "      <td>14.34</td>\n",
       "      <td>135.10</td>\n",
       "      <td>1297.0</td>\n",
       "      <td>0.10030</td>\n",
       "      <td>0.13280</td>\n",
       "      <td>0.1980</td>\n",
       "      <td>0.10430</td>\n",
       "      <td>0.1809</td>\n",
       "      <td>0.05883</td>\n",
       "      <td>0.7572</td>\n",
       "      <td>0.7813</td>\n",
       "      <td>5.438</td>\n",
       "      <td>94.44</td>\n",
       "      <td>0.011490</td>\n",
       "      <td>0.02461</td>\n",
       "      <td>0.05688</td>\n",
       "      <td>0.01885</td>\n",
       "      <td>0.01756</td>\n",
       "      <td>0.005115</td>\n",
       "      <td>22.54</td>\n",
       "      <td>16.67</td>\n",
       "      <td>152.20</td>\n",
       "      <td>1575.0</td>\n",
       "      <td>0.1374</td>\n",
       "      <td>0.2050</td>\n",
       "      <td>0.4000</td>\n",
       "      <td>0.1625</td>\n",
       "      <td>0.2364</td>\n",
       "      <td>0.07678</td>\n",
       "      <td>0</td>\n",
       "    </tr>\n",
       "  </tbody>\n",
       "</table>\n",
       "</div>"
      ],
      "text/plain": [
       "   mean radius  mean texture  ...  worst fractal dimension  target\n",
       "0        17.99         10.38  ...                  0.11890       0\n",
       "1        20.57         17.77  ...                  0.08902       0\n",
       "2        19.69         21.25  ...                  0.08758       0\n",
       "3        11.42         20.38  ...                  0.17300       0\n",
       "4        20.29         14.34  ...                  0.07678       0\n",
       "\n",
       "[5 rows x 31 columns]"
      ]
     },
     "execution_count": 4,
     "metadata": {},
     "output_type": "execute_result"
    }
   ],
   "source": [
    "print(\"The number of rows in data : {}\".format(df_cancer.shape[0]))\n",
    "print(\"The number of columns in data : {}\".format(df_cancer.shape[1]))\n",
    "print(\"The first few rows of the data:\")\n",
    "df_cancer.head()"
   ]
  },
  {
   "cell_type": "code",
   "execution_count": 5,
   "metadata": {
    "colab": {
     "base_uri": "https://localhost:8080/"
    },
    "id": "BXE9JcvmUqIl",
    "outputId": "7cd84de2-09bc-4c49-e3a3-5944ee63a0bb"
   },
   "outputs": [
    {
     "name": "stdout",
     "output_type": "stream",
     "text": [
      "<class 'pandas.core.frame.DataFrame'>\n",
      "RangeIndex: 569 entries, 0 to 568\n",
      "Data columns (total 31 columns):\n",
      " #   Column                   Non-Null Count  Dtype  \n",
      "---  ------                   --------------  -----  \n",
      " 0   mean radius              569 non-null    float64\n",
      " 1   mean texture             569 non-null    float64\n",
      " 2   mean perimeter           569 non-null    float64\n",
      " 3   mean area                569 non-null    float64\n",
      " 4   mean smoothness          569 non-null    float64\n",
      " 5   mean compactness         569 non-null    float64\n",
      " 6   mean concavity           569 non-null    float64\n",
      " 7   mean concave points      569 non-null    float64\n",
      " 8   mean symmetry            569 non-null    float64\n",
      " 9   mean fractal dimension   569 non-null    float64\n",
      " 10  radius error             569 non-null    float64\n",
      " 11  texture error            569 non-null    float64\n",
      " 12  perimeter error          569 non-null    float64\n",
      " 13  area error               569 non-null    float64\n",
      " 14  smoothness error         569 non-null    float64\n",
      " 15  compactness error        569 non-null    float64\n",
      " 16  concavity error          569 non-null    float64\n",
      " 17  concave points error     569 non-null    float64\n",
      " 18  symmetry error           569 non-null    float64\n",
      " 19  fractal dimension error  569 non-null    float64\n",
      " 20  worst radius             569 non-null    float64\n",
      " 21  worst texture            569 non-null    float64\n",
      " 22  worst perimeter          569 non-null    float64\n",
      " 23  worst area               569 non-null    float64\n",
      " 24  worst smoothness         569 non-null    float64\n",
      " 25  worst compactness        569 non-null    float64\n",
      " 26  worst concavity          569 non-null    float64\n",
      " 27  worst concave points     569 non-null    float64\n",
      " 28  worst symmetry           569 non-null    float64\n",
      " 29  worst fractal dimension  569 non-null    float64\n",
      " 30  target                   569 non-null    int64  \n",
      "dtypes: float64(30), int64(1)\n",
      "memory usage: 137.9 KB\n",
      "Datatypes of Columns: None\n"
     ]
    }
   ],
   "source": [
    "# Exploring the datatypes and null count of the columns\n",
    "print('Datatypes of Columns:',df_cancer.info())            "
   ]
  },
  {
   "cell_type": "markdown",
   "metadata": {
    "id": "1wxB_wYqUuGp"
   },
   "source": [
    "We observe that all the features are float type and the target is integer type and there are no missing values in the data, so there is no need to treat for missing values"
   ]
  },
  {
   "cell_type": "markdown",
   "metadata": {
    "id": "ZQWl32k3UxWd"
   },
   "source": [
    "### Implementing K-Means clustering from scratch"
   ]
  },
  {
   "cell_type": "code",
   "execution_count": 6,
   "metadata": {
    "id": "aSHA5bSJUrr3"
   },
   "outputs": [],
   "source": [
    "# Creating a separate dataset for features in the data\n",
    "df_features = df_cancer.loc[:,df_cancer.columns != 'target']\n",
    "features_array = np.array(df_features)  # Converting this feature dataset into an array\n",
    "target = df_cancer['target']   # Creating an array of the 'target' column"
   ]
  },
  {
   "cell_type": "code",
   "execution_count": 7,
   "metadata": {
    "id": "mvOHdOknU4S7"
   },
   "outputs": [],
   "source": [
    "# Fucntion to generate random centroids\n",
    "def calc_centroid(df,k):\n",
    "  rand_values = random.sample(range(0, len(df)), k) # Selecting k random indices from the dataset\n",
    "  centroids = []\n",
    "  for i in rand_values:\n",
    "      centroids.append(df.loc[i])  # Getting all the column values for a particular centroid index we have chosen\n",
    "  centroids = np.array(centroids)\n",
    "  return centroids"
   ]
  },
  {
   "cell_type": "code",
   "execution_count": 8,
   "metadata": {
    "id": "ew55UaIMVN4R"
   },
   "outputs": [],
   "source": [
    "# Function to calculate distance between every data point and assigned centroid\n",
    "def calc_distance(a, b):\n",
    "  distance = np.linalg.norm(a-b)\n",
    "  return distance"
   ]
  },
  {
   "cell_type": "code",
   "execution_count": 9,
   "metadata": {
    "id": "weJlvCPfVOIQ"
   },
   "outputs": [],
   "source": [
    "# Function to find the nearest centroid for each data point\n",
    "def calc_nearestCentroid(df_array,centroids):\n",
    "    nearest_centroid = []\n",
    "    for i in df_array:\n",
    "        distance=[]\n",
    "        for j in centroids:\n",
    "            distance.append(calc_distance(i, j))\n",
    "        nearest_centroid.append(np.argmin(distance))\n",
    "    return nearest_centroid"
   ]
  },
  {
   "cell_type": "code",
   "execution_count": 10,
   "metadata": {
    "id": "ei_Q6cvrVPyH"
   },
   "outputs": [],
   "source": [
    "# Function to calculate new centroids to all points which are nearer than the previous centroids\n",
    "def calc_newCentroids(nearest_centroids, df_array):\n",
    "    new_centroids = []\n",
    "    clusters = []\n",
    "    new_df = pd.concat([pd.DataFrame(df_array), pd.DataFrame(nearest_centroids, columns=['cluster'])],axis=1)\n",
    "    for i in set(new_df['cluster']):\n",
    "        current_cluster = new_df[new_df['cluster'] == i][new_df.columns[:-1]]\n",
    "        cluster_mean = current_cluster.mean(axis=0)\n",
    "        new_centroids.append(cluster_mean)\n",
    "    clusters = np.unique(new_df['cluster'])\n",
    "    label = new_df['cluster']\n",
    "    return new_centroids,clusters,label,new_df"
   ]
  },
  {
   "cell_type": "code",
   "execution_count": 11,
   "metadata": {
    "id": "PQ329SOyVREH"
   },
   "outputs": [],
   "source": [
    "# Function to calculate the accuracy\n",
    "def calc_accuracy(actual, predicted):\n",
    "\tcorrect = 0\n",
    "\tfor i in range(len(actual)):\n",
    "\t\tif actual[i] == predicted[i]:\n",
    "\t\t\tcorrect += 1\n",
    "\treturn (correct/float(len(actual)))*100.0"
   ]
  },
  {
   "cell_type": "markdown",
   "metadata": {
    "id": "ddjYhywxVVw4"
   },
   "source": [
    "### Random Initialisation 1"
   ]
  },
  {
   "cell_type": "code",
   "execution_count": 29,
   "metadata": {
    "colab": {
     "base_uri": "https://localhost:8080/"
    },
    "id": "706u2P2fVTyu",
    "outputId": "1c891cea-0a3a-4834-999d-aa54218de9ff"
   },
   "outputs": [
    {
     "name": "stdout",
     "output_type": "stream",
     "text": [
      "The accuracy for first random centroid initialisation is 40.42%\n"
     ]
    }
   ],
   "source": [
    "# Initialising random centroids\n",
    "centroids = calc_centroid(df_features,2)\n",
    "\n",
    "for i in range(10):\n",
    "  nearest_centroids = calc_nearestCentroid(features_array,centroids)\n",
    "  new_centroids,clusters,label,new_df = calc_newCentroids(nearest_centroids, features_array)\n",
    "\n",
    "accuracy = calc_accuracy(target, label)\n",
    "print(\"The accuracy for first random centroid initialisation is {:.2f}%\".format(accuracy))"
   ]
  },
  {
   "cell_type": "markdown",
   "metadata": {
    "id": "A-gHMKQlVtux"
   },
   "source": [
    "### Random Intialisation 2"
   ]
  },
  {
   "cell_type": "code",
   "execution_count": 15,
   "metadata": {
    "colab": {
     "base_uri": "https://localhost:8080/"
    },
    "id": "bwTKp083VgwF",
    "outputId": "05c52f04-b788-4b4a-c98a-22b0f49a1cc4"
   },
   "outputs": [
    {
     "name": "stdout",
     "output_type": "stream",
     "text": [
      "The accuracy for second random centroid initialisation is 80.49%\n"
     ]
    }
   ],
   "source": [
    "# Initialising random centroids\n",
    "centroids = calc_centroid(df_features,2)\n",
    "\n",
    "for i in range(10):\n",
    "  nearest_centroids = calc_nearestCentroid(features_array,centroids)\n",
    "  new_centroids,clusters,label,new_df = calc_newCentroids(nearest_centroids, features_array)\n",
    "\n",
    "accuracy = calc_accuracy(target, label)\n",
    "print(\"The accuracy for second random centroid initialisation is {:.2f}%\".format(accuracy))"
   ]
  },
  {
   "cell_type": "markdown",
   "metadata": {
    "id": "v5WXXaESWJ27"
   },
   "source": [
    "### Random Intialisation 3"
   ]
  },
  {
   "cell_type": "code",
   "execution_count": 20,
   "metadata": {
    "colab": {
     "base_uri": "https://localhost:8080/"
    },
    "id": "V9GPLmfxWA6o",
    "outputId": "1d60b921-33c8-4a4a-8373-811692fd5334"
   },
   "outputs": [
    {
     "name": "stdout",
     "output_type": "stream",
     "text": [
      "The accuracy for third random centroid initialisation is 90.51%\n"
     ]
    }
   ],
   "source": [
    "# Initialising random centroids\n",
    "centroids = calc_centroid(df_features,2)\n",
    "\n",
    "for i in range(3):\n",
    "  nearest_centroids = calc_nearestCentroid(features_array,centroids)\n",
    "  new_centroids,clusters,label,new_df = calc_newCentroids(nearest_centroids, features_array)\n",
    "\n",
    "accuracy = calc_accuracy(target, label)\n",
    "print(\"The accuracy for third random centroid initialisation is {:.2f}%\".format(accuracy))"
   ]
  },
  {
   "cell_type": "markdown",
   "metadata": {
    "id": "REdiPkU7WTq5"
   },
   "source": [
    "As the centroids are randomly generated, the accuracy keeps on changing for every initialisation. When the centroids are very random, the accuracy maybe very low, whereas when the centroids are initialised correctly, we can obtain good accuracy. The only way to get good accuracy with random initialisation is to repeat the process until required accuracy is obtained. \n"
   ]
  },
  {
   "cell_type": "markdown",
   "metadata": {
    "id": "-h1pIOmjXGHf"
   },
   "source": [
    "### Implementing a Supervised learning algorithm\n",
    "Logistic Regression"
   ]
  },
  {
   "cell_type": "code",
   "execution_count": 30,
   "metadata": {
    "id": "gsIWI7PMWQrz"
   },
   "outputs": [],
   "source": [
    "# Split the data into training and testing sets\n",
    "X = df_features\n",
    "y = df_cancer['target']\n",
    "X_train, X_test, y_train, y_test = train_test_split(X, y, test_size=0.25, random_state=40)"
   ]
  },
  {
   "cell_type": "code",
   "execution_count": 31,
   "metadata": {
    "id": "0tKnCdBDXNDT"
   },
   "outputs": [],
   "source": [
    "# Perform Feature Scaling for better results\n",
    "sc = StandardScaler()\n",
    "X_train = sc.fit_transform(X_train)\n",
    "X_test = sc.transform(X_test)"
   ]
  },
  {
   "cell_type": "code",
   "execution_count": 32,
   "metadata": {
    "colab": {
     "base_uri": "https://localhost:8080/"
    },
    "id": "FK6PDnmFXXSR",
    "outputId": "794a51c7-bdf5-4400-8d04-4abe24cf7c02"
   },
   "outputs": [
    {
     "data": {
      "text/plain": [
       "LogisticRegression(C=1.0, class_weight=None, dual=False, fit_intercept=True,\n",
       "                   intercept_scaling=1, l1_ratio=None, max_iter=100,\n",
       "                   multi_class='auto', n_jobs=None, penalty='l2',\n",
       "                   random_state=None, solver='lbfgs', tol=0.0001, verbose=0,\n",
       "                   warm_start=False)"
      ]
     },
     "execution_count": 32,
     "metadata": {},
     "output_type": "execute_result"
    }
   ],
   "source": [
    "logreg = LogisticRegression()\n",
    "logreg.fit(X_train, y_train)\n",
    "y_pred = logreg.predict(X_test)"
   ]
  },
  {
   "cell_type": "code",
   "execution_count": 37,
   "metadata": {
    "id": "5R3KAOp1XgA7"
   },
   "outputs": [],
   "source": [
    "def accuracy(conf_mat):\n",
    "    correct = conf_mat[0][0] + conf_mat[1][1]\n",
    "    total = conf_mat[0][0] + conf_mat[0][1] + conf_mat[1][0] + conf_mat[1][1]\n",
    "    return correct / total * 100"
   ]
  },
  {
   "cell_type": "code",
   "execution_count": 38,
   "metadata": {
    "colab": {
     "base_uri": "https://localhost:8080/"
    },
    "id": "ywSC36IUXjY6",
    "outputId": "0f82606c-ee1e-4c39-a0fd-9239c644d9ab"
   },
   "outputs": [
    {
     "name": "stdout",
     "output_type": "stream",
     "text": [
      "The accuracy for Logistic Regression is 97.20%\n"
     ]
    }
   ],
   "source": [
    "# Making the Confusion Matrix\n",
    "conf_mat = confusion_matrix(y_test, y_pred)\n",
    "accuracy = accuracy(conf_mat)\n",
    "print(\"The accuracy for Logistic Regression is {:.2f}%\".format(accuracy))"
   ]
  },
  {
   "cell_type": "markdown",
   "metadata": {
    "id": "gtqHx6U7X7pe"
   },
   "source": [
    "As we can see, we are able to get a better accuracy with Logistic Regression (Supervised learning algorithm). This is because we are using already define labels to train the model in supervised learning which will give better accuracy than a model used to identify the patterns as in the case of K-Means (unsupervised learning)"
   ]
  },
  {
   "cell_type": "code",
   "execution_count": null,
   "metadata": {},
   "outputs": [],
   "source": []
  }
 ],
 "metadata": {
  "colab": {
   "collapsed_sections": [],
   "name": "HW2_final.ipynb",
   "provenance": []
  },
  "kernelspec": {
   "display_name": "Python 3",
   "language": "python",
   "name": "python3"
  },
  "language_info": {
   "codemirror_mode": {
    "name": "ipython",
    "version": 3
   },
   "file_extension": ".py",
   "mimetype": "text/x-python",
   "name": "python",
   "nbconvert_exporter": "python",
   "pygments_lexer": "ipython3",
   "version": "3.8.8"
  }
 },
 "nbformat": 4,
 "nbformat_minor": 1
}
